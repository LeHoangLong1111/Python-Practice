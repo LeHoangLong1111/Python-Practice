{
  "nbformat": 4,
  "nbformat_minor": 0,
  "metadata": {
    "colab": {
      "provenance": []
    },
    "kernelspec": {
      "name": "python3",
      "display_name": "Python 3"
    },
    "language_info": {
      "name": "python"
    }
  },
  "cells": [
    {
      "cell_type": "code",
      "execution_count": null,
      "metadata": {
        "colab": {
          "base_uri": "https://localhost:8080/"
        },
        "id": "TjoG90q1fFgI",
        "outputId": "e6f42780-f10c-41e3-aae6-222cb4505c90"
      },
      "outputs": [
        {
          "output_type": "stream",
          "name": "stdout",
          "text": [
            "5.25\n"
          ]
        }
      ],
      "source": [
        "x=20\n",
        "y=5\n",
        "result=(x+True)/(4-y*False)\n",
        "print(result)"
      ]
    },
    {
      "cell_type": "code",
      "source": [
        "tuple_ = (1, 6, (1+2j), [\"python\", \"sql\", \"GDS\"])\n",
        "i=6\n",
        "i2=1+2j\n",
        "check1 = i in tuple_\n",
        "check2= i2 in tuple_\n",
        "print(check1)\n",
        "print(check2)"
      ],
      "metadata": {
        "colab": {
          "base_uri": "https://localhost:8080/"
        },
        "id": "gE2CPPO8gryi",
        "outputId": "aff52802-1452-4fac-d334-a4391dc1d442"
      },
      "execution_count": null,
      "outputs": [
        {
          "output_type": "stream",
          "name": "stdout",
          "text": [
            "True\n",
            "True\n"
          ]
        }
      ]
    },
    {
      "cell_type": "code",
      "source": [
        "color=[\"red\", \"blue\", \"white\", \"black\"]\n",
        "print(color[1])"
      ],
      "metadata": {
        "colab": {
          "base_uri": "https://localhost:8080/"
        },
        "id": "T8UnG7_jM9YT",
        "outputId": "88d48a6a-f6a5-4e2d-c61c-59bf5b6d8dcf"
      },
      "execution_count": null,
      "outputs": [
        {
          "output_type": "stream",
          "name": "stdout",
          "text": [
            "blue\n"
          ]
        }
      ]
    },
    {
      "cell_type": "code",
      "source": [
        "color.append(\"orange\")\n",
        "color"
      ],
      "metadata": {
        "colab": {
          "base_uri": "https://localhost:8080/"
        },
        "id": "bahAPZTVNel8",
        "outputId": "6b2a200f-f7aa-4da5-bf1e-dee71c6c5ee9"
      },
      "execution_count": null,
      "outputs": [
        {
          "output_type": "execute_result",
          "data": {
            "text/plain": [
              "['red', 'blue', 'white', 'black', 'orange']"
            ]
          },
          "metadata": {},
          "execution_count": 6
        }
      ]
    },
    {
      "cell_type": "code",
      "source": [
        "color.insert(1,\"pink\")\n",
        "color"
      ],
      "metadata": {
        "colab": {
          "base_uri": "https://localhost:8080/"
        },
        "id": "wajOUeTpNnM1",
        "outputId": "44247872-df35-4309-baa7-e081a64013d9"
      },
      "execution_count": null,
      "outputs": [
        {
          "output_type": "execute_result",
          "data": {
            "text/plain": [
              "['red', 'pink', 'blue', 'white', 'black', 'orange']"
            ]
          },
          "metadata": {},
          "execution_count": 7
        }
      ]
    },
    {
      "cell_type": "code",
      "source": [
        "color.remove(\"white\")\n",
        "color"
      ],
      "metadata": {
        "colab": {
          "base_uri": "https://localhost:8080/"
        },
        "id": "le7HlJ08N7_O",
        "outputId": "661d26a4-5ac3-413a-ef96-f3326f84811e"
      },
      "execution_count": null,
      "outputs": [
        {
          "output_type": "execute_result",
          "data": {
            "text/plain": [
              "['red', 'pink', 'blue', 'black', 'orange']"
            ]
          },
          "metadata": {},
          "execution_count": 8
        }
      ]
    },
    {
      "cell_type": "code",
      "source": [
        "color[-1]\n"
      ],
      "metadata": {
        "colab": {
          "base_uri": "https://localhost:8080/",
          "height": 35
        },
        "id": "uwsUI1TVOCzT",
        "outputId": "b8897682-c088-4ad4-e176-79dd2015f50d"
      },
      "execution_count": null,
      "outputs": [
        {
          "output_type": "execute_result",
          "data": {
            "text/plain": [
              "'orange'"
            ],
            "application/vnd.google.colaboratory.intrinsic+json": {
              "type": "string"
            }
          },
          "metadata": {},
          "execution_count": 10
        }
      ]
    },
    {
      "cell_type": "code",
      "source": [
        "color[2:5]"
      ],
      "metadata": {
        "colab": {
          "base_uri": "https://localhost:8080/"
        },
        "id": "2IR3VoAUOKxt",
        "outputId": "32084611-709d-4376-bf98-046efde3743b"
      },
      "execution_count": null,
      "outputs": [
        {
          "output_type": "execute_result",
          "data": {
            "text/plain": [
              "['blue', 'black', 'orange']"
            ]
          },
          "metadata": {},
          "execution_count": 11
        }
      ]
    },
    {
      "cell_type": "code",
      "source": [
        "color_1=[\"green\", \"pink\", \"purple\"]\n",
        "color_1 += color\n",
        "color_1"
      ],
      "metadata": {
        "colab": {
          "base_uri": "https://localhost:8080/"
        },
        "id": "olyMnu_WOVr-",
        "outputId": "0ce38197-88ba-4810-87ab-3178d68731e0"
      },
      "execution_count": null,
      "outputs": [
        {
          "output_type": "execute_result",
          "data": {
            "text/plain": [
              "['green', 'pink', 'purple', 'red', 'pink', 'blue', 'black', 'orange']"
            ]
          },
          "metadata": {},
          "execution_count": 12
        }
      ]
    },
    {
      "cell_type": "markdown",
      "source": [
        "**Set**"
      ],
      "metadata": {
        "id": "n3wngKByRRte"
      }
    },
    {
      "cell_type": "code",
      "source": [
        "color={\"red\", \"blue\", \"white\", \"black\"}"
      ],
      "metadata": {
        "id": "HdA_DQVFOot1"
      },
      "execution_count": null,
      "outputs": []
    },
    {
      "cell_type": "code",
      "source": [
        "color.add(\"orange\")\n",
        "color"
      ],
      "metadata": {
        "colab": {
          "base_uri": "https://localhost:8080/"
        },
        "id": "beD4AZ2xRgKm",
        "outputId": "6ef30ecb-1bf3-485e-dce0-dced554897dd"
      },
      "execution_count": null,
      "outputs": [
        {
          "output_type": "execute_result",
          "data": {
            "text/plain": [
              "{'black', 'blue', 'orange', 'red', 'white'}"
            ]
          },
          "metadata": {},
          "execution_count": 20
        }
      ]
    },
    {
      "cell_type": "code",
      "source": [
        "more_color=[\"pink\",\"green\", \"purple\"]\n",
        "color.update(more_color)\n",
        "color"
      ],
      "metadata": {
        "colab": {
          "base_uri": "https://localhost:8080/"
        },
        "id": "xFJDfDIeRjnG",
        "outputId": "fa6ea89d-6d9d-4190-ae28-33411655351d"
      },
      "execution_count": null,
      "outputs": [
        {
          "output_type": "execute_result",
          "data": {
            "text/plain": [
              "{'black', 'blue', 'green', 'orange', 'pink', 'purple', 'red', 'white'}"
            ]
          },
          "metadata": {},
          "execution_count": 21
        }
      ]
    },
    {
      "cell_type": "code",
      "source": [
        "color.remove(\"green\")\n",
        "color"
      ],
      "metadata": {
        "colab": {
          "base_uri": "https://localhost:8080/"
        },
        "id": "Us8Y2-OsSnWT",
        "outputId": "55e4b69c-59ae-4a85-8478-a46e0db9fa5f"
      },
      "execution_count": null,
      "outputs": [
        {
          "output_type": "execute_result",
          "data": {
            "text/plain": [
              "{'black', 'blue', 'orange', 'pink', 'purple', 'red', 'white'}"
            ]
          },
          "metadata": {},
          "execution_count": 22
        }
      ]
    },
    {
      "cell_type": "code",
      "source": [
        "fruits = {1,2,3,4,5}\n",
        "fruits_1 = {1,3,5,7,9}\n",
        "fruits.union(fruits_1)\n"
      ],
      "metadata": {
        "colab": {
          "base_uri": "https://localhost:8080/"
        },
        "id": "yJ9Rgf_RTIEp",
        "outputId": "0fd41255-61ef-4148-dd72-abd894b35533"
      },
      "execution_count": null,
      "outputs": [
        {
          "output_type": "execute_result",
          "data": {
            "text/plain": [
              "{1, 2, 3, 4, 5, 7, 9}"
            ]
          },
          "metadata": {},
          "execution_count": 31
        }
      ]
    },
    {
      "cell_type": "code",
      "source": [
        "fruits = {1,2,3,4}\n",
        "fruits_1 = {1,2,5,3,4,5,6}\n",
        "fruits.intersection(fruits_1)\n"
      ],
      "metadata": {
        "colab": {
          "base_uri": "https://localhost:8080/"
        },
        "id": "WI7lvCYvYHLS",
        "outputId": "2e35f1c6-7af1-4d0f-a238-b129ff072eaf"
      },
      "execution_count": null,
      "outputs": [
        {
          "output_type": "execute_result",
          "data": {
            "text/plain": [
              "{1, 2, 3, 4}"
            ]
          },
          "metadata": {},
          "execution_count": 30
        }
      ]
    },
    {
      "cell_type": "code",
      "source": [
        "fruits = {1,2,3,4}\n",
        "fruits_1 = {1,5,7,2,3}\n",
        "fruits.difference(fruits_1)\n"
      ],
      "metadata": {
        "colab": {
          "base_uri": "https://localhost:8080/"
        },
        "id": "IC2lX1NpZQhc",
        "outputId": "3c63dd81-b56f-4495-caaa-6f0eb2a3b817"
      },
      "execution_count": null,
      "outputs": [
        {
          "output_type": "execute_result",
          "data": {
            "text/plain": [
              "{4}"
            ]
          },
          "metadata": {},
          "execution_count": 29
        }
      ]
    },
    {
      "cell_type": "markdown",
      "source": [
        "**Tuple**"
      ],
      "metadata": {
        "id": "AmxBaKUbZeH_"
      }
    },
    {
      "cell_type": "code",
      "source": [
        "fruits = (1,2,3,4)\n",
        "print(fruits[0])\n"
      ],
      "metadata": {
        "colab": {
          "base_uri": "https://localhost:8080/"
        },
        "id": "drD3G_85ZUB4",
        "outputId": "94d72515-354e-4aac-d270-4a0ef693e506"
      },
      "execution_count": null,
      "outputs": [
        {
          "output_type": "stream",
          "name": "stdout",
          "text": [
            "1\n"
          ]
        }
      ]
    },
    {
      "cell_type": "code",
      "source": [
        "fruits = (1,3,4,5)\n",
        "print(fruits[-1])\n"
      ],
      "metadata": {
        "colab": {
          "base_uri": "https://localhost:8080/"
        },
        "id": "1_fjDH6DaUQz",
        "outputId": "e1abcf68-f668-4de5-f799-b81a9afc96ec"
      },
      "execution_count": null,
      "outputs": [
        {
          "output_type": "stream",
          "name": "stdout",
          "text": [
            "5\n"
          ]
        }
      ]
    },
    {
      "cell_type": "code",
      "source": [
        "fruits = (1,2,3,5,4,6,7,8)\n",
        "print(fruits[2:5])\n"
      ],
      "metadata": {
        "colab": {
          "base_uri": "https://localhost:8080/"
        },
        "id": "pVussqF7aZub",
        "outputId": "85a502b4-5321-4525-a5ee-e58abb902cd2"
      },
      "execution_count": null,
      "outputs": [
        {
          "output_type": "stream",
          "name": "stdout",
          "text": [
            "(3, 5, 4)\n"
          ]
        }
      ]
    },
    {
      "cell_type": "code",
      "source": [
        "fruits = (\"apple\", \"banana\", \"cherry\")\n",
        "tuple_2 = (1, 6, (1+2j), [\"python\", \"sql\", \"GDS\"])\n",
        "fruits + tuple_2\n"
      ],
      "metadata": {
        "colab": {
          "base_uri": "https://localhost:8080/"
        },
        "id": "g4uGSEc2af4X",
        "outputId": "7a398086-082d-4c12-9800-b016775e90a6"
      },
      "execution_count": null,
      "outputs": [
        {
          "output_type": "execute_result",
          "data": {
            "text/plain": [
              "('apple', 'banana', 'cherry', 1, 6, (1+2j), ['python', 'sql', 'GDS'])"
            ]
          },
          "metadata": {},
          "execution_count": 36
        }
      ]
    },
    {
      "cell_type": "markdown",
      "source": [
        "**Dictionary**"
      ],
      "metadata": {
        "id": "zsE8M8L7a58y"
      }
    },
    {
      "cell_type": "code",
      "source": [
        "me =\t{\n",
        "  \"name\": \"Long\",\n",
        "  \"age\": 22,\n",
        "  \"born\": \"Tay Ninh\"\n",
        "}\n",
        "print(me.get(\"name\"))\n"
      ],
      "metadata": {
        "colab": {
          "base_uri": "https://localhost:8080/"
        },
        "id": "h-Onak2sa8cm",
        "outputId": "c5f04566-4bea-4139-8638-b8741a0dc604"
      },
      "execution_count": null,
      "outputs": [
        {
          "output_type": "stream",
          "name": "stdout",
          "text": [
            "Long\n"
          ]
        }
      ]
    },
    {
      "cell_type": "code",
      "source": [
        "me =\t{\n",
        "  \"name\": \"Long\",\n",
        "  \"age\": 22,\n",
        "  \"born\": \"Tay Ninh\"\n",
        "}\n",
        "me[\"age\"]= 23"
      ],
      "metadata": {
        "id": "HjOtecpgbfiZ"
      },
      "execution_count": null,
      "outputs": []
    },
    {
      "cell_type": "code",
      "source": [
        "me[\"live\"]= \"HCM\"\n",
        "me"
      ],
      "metadata": {
        "colab": {
          "base_uri": "https://localhost:8080/"
        },
        "id": "F1RKEXpWbrSJ",
        "outputId": "9dc4e700-f18d-478a-e459-fe6a51965642"
      },
      "execution_count": null,
      "outputs": [
        {
          "output_type": "execute_result",
          "data": {
            "text/plain": [
              "{'name': 'Long', 'age': 23, 'born': 'Tay Ninh', 'live': 'HCM'}"
            ]
          },
          "metadata": {},
          "execution_count": 45
        }
      ]
    },
    {
      "cell_type": "code",
      "source": [
        "mylap =\t{\n",
        "  \"color\": \"black\",\n",
        "  \"brand\": \"Lenovo\",\n",
        "  \"year\": 2021\n",
        "}\n",
        "me.update(mylap)\n",
        "me"
      ],
      "metadata": {
        "colab": {
          "base_uri": "https://localhost:8080/"
        },
        "id": "fA-U33CQb3ju",
        "outputId": "3689f92a-fc96-4735-fcb6-59b461c56eaf"
      },
      "execution_count": null,
      "outputs": [
        {
          "output_type": "execute_result",
          "data": {
            "text/plain": [
              "{'name': 'Long',\n",
              " 'age': 23,\n",
              " 'born': 'Tay Ninh',\n",
              " 'live': 'HCM',\n",
              " 'color': 'black',\n",
              " 'brand': 'Lenovo',\n",
              " 'year': 2021}"
            ]
          },
          "metadata": {},
          "execution_count": 46
        }
      ]
    },
    {
      "cell_type": "code",
      "source": [
        "print(list(me.keys()))\n",
        "print(list(me.values()))"
      ],
      "metadata": {
        "colab": {
          "base_uri": "https://localhost:8080/"
        },
        "id": "55S8dEptdjzS",
        "outputId": "26ede05a-f304-4b94-b15f-2576811b3a34"
      },
      "execution_count": null,
      "outputs": [
        {
          "output_type": "stream",
          "name": "stdout",
          "text": [
            "['name', 'age', 'born', 'live', 'color', 'year']\n",
            "['Long', 23, 'Tay Ninh', 'HCM', 'black', 2021]\n"
          ]
        }
      ]
    },
    {
      "cell_type": "code",
      "source": [
        "me.pop(\"brand\")\n",
        "me"
      ],
      "metadata": {
        "colab": {
          "base_uri": "https://localhost:8080/"
        },
        "id": "BfYV4C38dUJB",
        "outputId": "93ca83f9-b5ca-44d8-a6d3-e7cb5bf535b8"
      },
      "execution_count": null,
      "outputs": [
        {
          "output_type": "execute_result",
          "data": {
            "text/plain": [
              "{'name': 'Long',\n",
              " 'age': 23,\n",
              " 'born': 'Tay Ninh',\n",
              " 'live': 'HCM',\n",
              " 'color': 'black',\n",
              " 'year': 2021}"
            ]
          },
          "metadata": {},
          "execution_count": 47
        }
      ]
    },
    {
      "cell_type": "markdown",
      "source": [
        "**Arithmetic Operators**"
      ],
      "metadata": {
        "id": "7N2V4uYEwmBD"
      }
    },
    {
      "cell_type": "code",
      "source": [
        "def rectangle(d ,r):\n",
        "  print(\"Chu vi hcn: \", (d+r)*2)\n",
        "  print(\"Dien tich hcn\", d*r)\n",
        "rectangle(3,4)"
      ],
      "metadata": {
        "id": "SVrEMo7xdo28",
        "colab": {
          "base_uri": "https://localhost:8080/"
        },
        "outputId": "c059eb58-7975-416b-8967-2adae5af734f"
      },
      "execution_count": 4,
      "outputs": [
        {
          "output_type": "stream",
          "name": "stdout",
          "text": [
            "Chu vi hcn:  14\n",
            "Dien tich hcn 12\n"
          ]
        }
      ]
    },
    {
      "cell_type": "code",
      "source": [
        "def square(a):\n",
        "  print(\"Chu vi hv: \", a*4)\n",
        "  print(\"Dien tich hv: \", a*a)\n",
        "square(2)"
      ],
      "metadata": {
        "colab": {
          "base_uri": "https://localhost:8080/"
        },
        "id": "IyxZ6ExJ0rOz",
        "outputId": "6521e0f4-cae5-426e-ae0c-b6137a325509"
      },
      "execution_count": 5,
      "outputs": [
        {
          "output_type": "stream",
          "name": "stdout",
          "text": [
            "Chu vi hv:  8\n",
            "Dien tich hv:  4\n"
          ]
        }
      ]
    },
    {
      "cell_type": "code",
      "source": [
        "def circle(r):\n",
        "  print(\"Chu vi hinh tron: \", r*2*3.14)\n",
        "  print(\"Dien tich hinh tron: \", (r**2)*3.14)\n",
        "circle(2)"
      ],
      "metadata": {
        "colab": {
          "base_uri": "https://localhost:8080/"
        },
        "id": "t9L_0FQk1EfE",
        "outputId": "85af0e22-84c5-466f-9ff9-3e86c2912fe2"
      },
      "execution_count": 6,
      "outputs": [
        {
          "output_type": "stream",
          "name": "stdout",
          "text": [
            "Chu vi hinh tron:  12.56\n",
            "Dien tich hinh tron:  12.56\n"
          ]
        }
      ]
    },
    {
      "cell_type": "code",
      "source": [
        "def trapezoid_perimetor(a,b,c,d):\n",
        "  return a+b+c+d\n",
        "def trapezoid_area(a,b,h):\n",
        "  return ((a+b)*h)/2\n",
        "print(\"Chu vi hinh thang: \", trapezoid_perimetor(4,5,6,7))\n",
        "print(\"Dien tich hinh thang: \", trapezoid_area(3,4,5))"
      ],
      "metadata": {
        "colab": {
          "base_uri": "https://localhost:8080/"
        },
        "id": "qmTVGfPu0paJ",
        "outputId": "0c543017-7352-496f-e3a3-077bbaabc7c3"
      },
      "execution_count": 7,
      "outputs": [
        {
          "output_type": "stream",
          "name": "stdout",
          "text": [
            "Chu vi hinh thang:  22\n",
            "Dien tich hinh thang:  17.5\n"
          ]
        }
      ]
    },
    {
      "cell_type": "code",
      "source": [
        "def getremainder(a,b):\n",
        "  return a%b\n",
        "getremainder(5,2)"
      ],
      "metadata": {
        "colab": {
          "base_uri": "https://localhost:8080/"
        },
        "id": "VHc06Apyzl70",
        "outputId": "211bd29e-adc4-4577-9680-3691c3301156"
      },
      "execution_count": 2,
      "outputs": [
        {
          "output_type": "execute_result",
          "data": {
            "text/plain": [
              "1"
            ]
          },
          "metadata": {},
          "execution_count": 2
        }
      ]
    },
    {
      "cell_type": "code",
      "source": [
        "print(\"Nhap diem toan: \")\n",
        "math=input()\n",
        "print(\"Nhap diem ly: \")\n",
        "phy=input()\n",
        "print(\"Nhap diem hoa: \")\n",
        "che=input()\n",
        "average= (float(math) + float(phy) + float(che))/3\n",
        "print(\"Diem trung binh: \", average)"
      ],
      "metadata": {
        "colab": {
          "base_uri": "https://localhost:8080/"
        },
        "id": "o8I6iXma4Pze",
        "outputId": "bc913a29-a83f-4928-822b-931737a5454d"
      },
      "execution_count": 9,
      "outputs": [
        {
          "output_type": "stream",
          "name": "stdout",
          "text": [
            "Nhap diem toan: \n",
            "8.5\n",
            "Nhap diem ly: \n",
            "8.5\n",
            "Nhap diem hoa: \n",
            "9.5\n",
            "Diem trung binh:  8.833333333333334\n"
          ]
        }
      ]
    },
    {
      "cell_type": "code",
      "source": [
        "def compare(num1, num2):\n",
        "  print(\">=: \", num1 >= num2)\n",
        "  print(\"<=: \", num1 <= num2)\n",
        "  print(\">: \", num1 > num2)\n",
        "  print(\"<: \", num1 < num2)\n",
        "  print(\"!=: \", num1 != num2)\n",
        "  print(\"==: \", num1 == num2)\n",
        "compare(10,20)"
      ],
      "metadata": {
        "colab": {
          "base_uri": "https://localhost:8080/"
        },
        "id": "PKOhsztP5beW",
        "outputId": "1f0c2539-ac83-4419-8f2f-dabedc527845"
      },
      "execution_count": 10,
      "outputs": [
        {
          "output_type": "stream",
          "name": "stdout",
          "text": [
            ">=:  False\n",
            "<=:  True\n",
            ">:  False\n",
            "<:  True\n",
            "!=:  True\n",
            "==:  False\n"
          ]
        }
      ]
    },
    {
      "cell_type": "code",
      "source": [
        "compare(\"white\", \"white\")\n",
        "\n"
      ],
      "metadata": {
        "colab": {
          "base_uri": "https://localhost:8080/"
        },
        "id": "3eTc536A55qn",
        "outputId": "6a671774-8103-48e0-d400-3a83c70cd63c"
      },
      "execution_count": 11,
      "outputs": [
        {
          "output_type": "stream",
          "name": "stdout",
          "text": [
            ">=:  True\n",
            "<=:  True\n",
            ">:  False\n",
            "<:  False\n",
            "!=:  False\n",
            "==:  True\n"
          ]
        }
      ]
    },
    {
      "cell_type": "code",
      "source": [
        "str1 ='black'\n",
        "str2 ='white'\n",
        "str3 ='white'\n",
        "print('Có ít nhất 1 cặp chuỗi bằng nhau: ', str1==str2 or str1==str3 or str2==str3)\n"
      ],
      "metadata": {
        "colab": {
          "base_uri": "https://localhost:8080/"
        },
        "id": "b7GbjAD_7MRM",
        "outputId": "60fa4a18-254e-4a6b-d0c2-4a32ec42042b"
      },
      "execution_count": 12,
      "outputs": [
        {
          "output_type": "stream",
          "name": "stdout",
          "text": [
            "Có ít nhất 1 cặp chuỗi bằng nhau:  True\n"
          ]
        }
      ]
    },
    {
      "cell_type": "code",
      "source": [
        "str1 ='black'\n",
        "str2 ='white'\n",
        "str3 ='white'\n",
        "print('3 cặp chuỗi bằng nhau: ', str1==str2 and str1==str3 and str2==str3)"
      ],
      "metadata": {
        "colab": {
          "base_uri": "https://localhost:8080/"
        },
        "id": "mmwAK-KZ7rfD",
        "outputId": "c5e75cb9-df6f-4846-b899-4f10914c869b"
      },
      "execution_count": 34,
      "outputs": [
        {
          "output_type": "stream",
          "name": "stdout",
          "text": [
            "3 cặp chuỗi bằng nhau:  False\n"
          ]
        }
      ]
    },
    {
      "cell_type": "code",
      "source": [
        "str1 ='blue'\n",
        "str2 ='white'\n",
        "str3 ='black'\n",
        "print('Có ít nhất 1 cặp chuỗi bằng nhau: ', not(bool(str1!=str2) ^ bool(str1!=str3) ^ bool(str2!=str3)))"
      ],
      "metadata": {
        "colab": {
          "base_uri": "https://localhost:8080/"
        },
        "id": "4n7Qj86U8JZz",
        "outputId": "0a17d579-e64f-48fd-e054-d6101f68bdf6"
      },
      "execution_count": 38,
      "outputs": [
        {
          "output_type": "stream",
          "name": "stdout",
          "text": [
            "Có ít nhất 1 cặp chuỗi bằng nhau:  False\n"
          ]
        }
      ]
    },
    {
      "cell_type": "code",
      "source": [
        "str1 ='blue'\n",
        "str2 ='blue'\n",
        "str3 ='blue'\n",
        "print('3 cặp chuỗi bằng nhau:  ', not(bool(str1!=str2) or bool(str1!=str3) or bool(str2!=str3)))"
      ],
      "metadata": {
        "colab": {
          "base_uri": "https://localhost:8080/"
        },
        "id": "y517EuRC9iP1",
        "outputId": "ef85a29b-2d9c-409f-b2a6-0f768baeeb4a"
      },
      "execution_count": 49,
      "outputs": [
        {
          "output_type": "stream",
          "name": "stdout",
          "text": [
            "3 cặp chuỗi bằng nhau:   True\n"
          ]
        }
      ]
    },
    {
      "cell_type": "code",
      "source": [
        "demo ='bcd abd ccd'\n",
        "'bcd' in demo\n"
      ],
      "metadata": {
        "colab": {
          "base_uri": "https://localhost:8080/"
        },
        "id": "84yJQs6bCPka",
        "outputId": "e903ad16-5589-49f7-c3fc-ff5d5b3828fc"
      },
      "execution_count": 51,
      "outputs": [
        {
          "output_type": "execute_result",
          "data": {
            "text/plain": [
              "True"
            ]
          },
          "metadata": {},
          "execution_count": 51
        }
      ]
    },
    {
      "cell_type": "code",
      "source": [
        "demo ='bcd abd ccd'\n",
        "key='bcd'\n",
        "if demo.find(key) != -1:\n",
        "  print(True)\n",
        "else:\n",
        "  print(False)"
      ],
      "metadata": {
        "colab": {
          "base_uri": "https://localhost:8080/"
        },
        "id": "Qs996sTsDBdh",
        "outputId": "0600f7b7-d290-4a3a-f58f-52a88a58be9f"
      },
      "execution_count": 54,
      "outputs": [
        {
          "output_type": "stream",
          "name": "stdout",
          "text": [
            "True\n"
          ]
        }
      ]
    },
    {
      "cell_type": "code",
      "source": [
        "color=[\"red\", \"blue\", \"white\", \"black\"]\n",
        "\"red\" in color"
      ],
      "metadata": {
        "colab": {
          "base_uri": "https://localhost:8080/"
        },
        "id": "lHv_0dZdDkgk",
        "outputId": "a52c1a71-9dd1-4b07-c8c5-f86ac9fff819"
      },
      "execution_count": 55,
      "outputs": [
        {
          "output_type": "execute_result",
          "data": {
            "text/plain": [
              "True"
            ]
          },
          "metadata": {},
          "execution_count": 55
        }
      ]
    },
    {
      "cell_type": "code",
      "source": [
        "color={\"red\", \"blue\", \"white\", \"black\"}\n",
        "\"red\" in color"
      ],
      "metadata": {
        "colab": {
          "base_uri": "https://localhost:8080/"
        },
        "id": "LgTHOi4CDyRw",
        "outputId": "f51d0783-7c45-4aef-9591-97e23fe6d5c2"
      },
      "execution_count": 56,
      "outputs": [
        {
          "output_type": "execute_result",
          "data": {
            "text/plain": [
              "True"
            ]
          },
          "metadata": {},
          "execution_count": 56
        }
      ]
    },
    {
      "cell_type": "code",
      "source": [
        "mylap =\t{\n",
        "  \"color\": \"black\",\n",
        "  \"brand\": \"Lenovo\",\n",
        "  \"year\": 2021\n",
        "}\n",
        "print(\"brand\" in mylap.keys())\n",
        "print(\"model\" in mylap.keys())"
      ],
      "metadata": {
        "colab": {
          "base_uri": "https://localhost:8080/"
        },
        "id": "YQ5D98h0D1ld",
        "outputId": "95b1c448-53a4-4628-d3cb-be94325e7eff"
      },
      "execution_count": 57,
      "outputs": [
        {
          "output_type": "stream",
          "name": "stdout",
          "text": [
            "True\n",
            "False\n"
          ]
        }
      ]
    }
  ]
}